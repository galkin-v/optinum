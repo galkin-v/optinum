{
 "cells": [
  {
   "cell_type": "markdown",
   "metadata": {},
   "source": [
    "# Моделирование волн"
   ]
  },
  {
   "cell_type": "markdown",
   "metadata": {},
   "source": [
    "## Общие понятия"
   ]
  },
  {
   "cell_type": "markdown",
   "metadata": {},
   "source": [
    "<table>\n",
    "  <tr>\n",
    "    <td align=\"center\">\n",
    "      <img src=\"imgs/wave.png\" width=\"100%\" height=\"50%\" alt=\"Image description\">\n",
    "    </td>\n",
    "    <td align=\"center\">\n",
    "      <img src=\"imgs/waves.png\" width=\"100%\" height=\"50%\" alt=\"Image description\">\n",
    "    </td>\n",
    "  </tr>\n",
    "</table>"
   ]
  },
  {
   "cell_type": "markdown",
   "metadata": {},
   "source": [
    "__Период__ - это время, которое требуется, чтобы пройти волну.\n",
    "\n",
    "__Частота f__, - это обратная величина от периода (количество раз какой-то паттерн повторяется за заданное время в герцах)\n",
    "1 Гц = 1/с\n",
    "\n",
    "Пример: человеческий слух слышит частоту не ниже 20 Гц, то есть паттерн повторяется 20 раз в секунду.\n",
    "\n",
    "Если f = 20 Hz, тогда период T = 1/20 = 0.05 с\n",
    "\n",
    "Если f = 1 Hz, тогда T = 1/1 = 1 с, что значит полный цикл завершается за 1 секунду.\n",
    "\n",
    "__Дискретизация__ - это процесс преобразования непрерывного сигнала в последовательность (в аудио - процесс записи звука в цифровой формат. Чем выше __частота дискретизации__ (sampling rate), тем больше берется точек изначального сигнала, что делает запись более точной).\n",
    "\n",
    "Частота дискретизации измеряется в Гц. Если частота дискретизации равна 44.1 КГц (44 100 Гц), это значит, что сигнал измерялся 44 100 раз в секунду.\n",
    "\n",
    "__Фаза__ - это положение волны в определенный момент времени относительно ее начала (0 секунд).\n",
    "\n",
    "Фазу измеряют в градусах или радианах. Один полный цикл волны = 360 градусов = 2 pi радиан\n",
    "\n",
    "__Угловая частота (w)__ - это скорость изменения фазы волны, выраженная в радианах в секунду. w = 2 * pi * f"
   ]
  },
  {
   "cell_type": "markdown",
   "metadata": {},
   "source": [
    "## Дискретное преобразование Фурье, преобразование Фурье"
   ]
  },
  {
   "cell_type": "markdown",
   "metadata": {},
   "source": [
    "**_Definition_**\n",
    "Дискретное преобразование Фурье преобразует последовательность $N$ комплексных чисел $\\{x_n\\}$ := $x_0, x_1, ..., x_{N-1}$ в другую последовательность комплексных чисел $\\{X_{k}\\}$ := $X_0, X_1, ... X_{N-1}$"
   ]
  },
  {
   "cell_type": "markdown",
   "metadata": {},
   "source": [
    "$$\n",
    "X_k = \\sum_{n=0}^{N-1} x_n \\cdot e^{-i2\\pi \\frac{k}{N}n} \\quad \n",
    "$$"
   ]
  },
  {
   "cell_type": "markdown",
   "metadata": {},
   "source": [
    "Оно является дискретным аналогом формулы коэффициентов ряда Фурье"
   ]
  },
  {
   "cell_type": "markdown",
   "metadata": {},
   "source": [
    "$$\n",
    "C_k = \\frac{1}{P} \\int_{P} x(t) e^{-i2\\pi \\frac{k}{P}t} dt.\n",
    "$$"
   ]
  },
  {
   "cell_type": "markdown",
   "metadata": {},
   "source": [
    "**_Note_** Преобразование Фурье конвертирует сигнал из изначальной области определения (обычно время или пространство) в представление в частотной области определения и наоборот. При этом мы не теряем значимой информации об изначальном сигнале."
   ]
  },
  {
   "cell_type": "markdown",
   "metadata": {},
   "source": [
    "**_Example_**\n",
    "**Применение DFT к последовательности длины N = 4**\n",
    "\n",
    "$$\n",
    "\\mathbf{x} = \n",
    "\\begin{bmatrix}\n",
    "x_0 \\\\\n",
    "x_1 \\\\\n",
    "x_2 \\\\\n",
    "x_3\n",
    "\\end{bmatrix}\n",
    "=\n",
    "\\begin{bmatrix}\n",
    "1 \\\\\n",
    "2 - i \\\\\n",
    "-i \\\\\n",
    "-1 + 2i\n",
    "\\end{bmatrix}.\n",
    "$$\n",
    "\n",
    "**Расчет DFT Eq.1**\n",
    "\n",
    "$$\n",
    "\\begin{aligned}\n",
    "X_0 &= e^{-i2\\pi 0 \\cdot 0/4} \\cdot 1 + e^{-i2\\pi 0 \\cdot 0/4} \\cdot (2 - i) + e^{-i2\\pi 0 \\cdot 0/4} \\cdot (-i) + e^{-i2\\pi 0 \\cdot 0/4} \\cdot (-1 + 2i) = 2 \\\\\n",
    "X_1 &= e^{-i2\\pi 1 \\cdot 1/4} \\cdot 1 + e^{-i2\\pi 1 \\cdot 1/4} \\cdot (2 - i) + e^{-i2\\pi 1 \\cdot 1/4} \\cdot (-i) + e^{-i2\\pi 1 \\cdot 1/4} \\cdot (-1 + 2i) = -2 - 2i \\\\\n",
    "X_2 &= e^{-i2\\pi 2 \\cdot 2/4} \\cdot 1 + e^{-i2\\pi 2 \\cdot 2/4} \\cdot (2 - i) + e^{-i2\\pi 2 \\cdot 2/4} \\cdot (-i) + e^{-i2\\pi 2 \\cdot 2/4} \\cdot (-1 + 2i) = -2i \\\\\n",
    "X_3 &= e^{-i2\\pi 3 \\cdot 3/4} \\cdot 1 + e^{-i2\\pi 3 \\cdot 3/4} \\cdot (2 - i) + e^{-i2\\pi 3 \\cdot 3/4} \\cdot (-i) + e^{-i2\\pi 3 \\cdot 3/4} \\cdot (-1 + 2i) = 4 + 4i\n",
    "\\end{aligned}\n",
    "$$\n",
    "\n",
    "**приводит к**\n",
    "\n",
    "$$\n",
    "\\mathbf{X} = \n",
    "\\begin{bmatrix}\n",
    "X_0 \\\\\n",
    "X_1 \\\\\n",
    "X_2 \\\\\n",
    "X_3\n",
    "\\end{bmatrix}\n",
    "=\n",
    "\\begin{bmatrix}\n",
    "2 \\\\\n",
    "-2 - 2i \\\\\n",
    "-2i \\\\\n",
    "4 + 4i\n",
    "\\end{bmatrix}.\n",
    "$$"
   ]
  },
  {
   "cell_type": "markdown",
   "metadata": {},
   "source": [
    "**_Definition_** Обратное преобразование Фурье"
   ]
  },
  {
   "cell_type": "markdown",
   "metadata": {},
   "source": [
    "$$\n",
    "x_n = \\frac{1}{N} \\sum_{k=0}^{N-1} X_k \\cdot e^{i2\\pi \\frac{k}{N}n} \\quad\n",
    "$$"
   ]
  },
  {
   "cell_type": "code",
   "execution_count": 1,
   "metadata": {},
   "outputs": [],
   "source": [
    "import numpy as np"
   ]
  },
  {
   "cell_type": "code",
   "execution_count": 2,
   "metadata": {},
   "outputs": [],
   "source": [
    "x = np.array([1, 2 - 1j, -1j, -1 + 2j])\n",
    "N = len(x)"
   ]
  },
  {
   "cell_type": "code",
   "execution_count": 3,
   "metadata": {},
   "outputs": [
    {
     "data": {
      "text/plain": [
       "array([[0],\n",
       "       [1],\n",
       "       [2],\n",
       "       [3]])"
      ]
     },
     "execution_count": 3,
     "metadata": {},
     "output_type": "execute_result"
    }
   ],
   "source": [
    "n = np.arange(N)[:, None]  # Create a column vector of n\n",
    "n"
   ]
  },
  {
   "cell_type": "code",
   "execution_count": 4,
   "metadata": {},
   "outputs": [
    {
     "data": {
      "text/plain": [
       "array([[0, 1, 2, 3]])"
      ]
     },
     "execution_count": 4,
     "metadata": {},
     "output_type": "execute_result"
    }
   ],
   "source": [
    "k = np.arange(N)[None, :]  # Create a row vector of k\n",
    "k"
   ]
  },
  {
   "cell_type": "code",
   "execution_count": 5,
   "metadata": {},
   "outputs": [
    {
     "data": {
      "text/plain": [
       "array([[ 1.+0.j,  1.+0.j,  1.+0.j,  1.+0.j],\n",
       "       [ 1.+0.j,  0.-1.j, -1.-0.j, -0.+1.j],\n",
       "       [ 1.+0.j, -1.-0.j,  1.+0.j, -1.-0.j],\n",
       "       [ 1.+0.j, -0.+1.j, -1.-0.j,  0.-1.j]])"
      ]
     },
     "execution_count": 5,
     "metadata": {},
     "output_type": "execute_result"
    }
   ],
   "source": [
    "W = np.exp(-2j * np.pi * k * n / N)  # Calculate the DFT matrix using broadcasting\n",
    "W.round(2)"
   ]
  },
  {
   "cell_type": "code",
   "execution_count": 6,
   "metadata": {},
   "outputs": [
    {
     "data": {
      "text/plain": [
       "array([ 2.+0.j, -2.-2.j,  0.-2.j,  4.+4.j])"
      ]
     },
     "execution_count": 6,
     "metadata": {},
     "output_type": "execute_result"
    }
   ],
   "source": [
    "X = x @ W\n",
    "X.round(2)"
   ]
  },
  {
   "cell_type": "code",
   "execution_count": 7,
   "metadata": {},
   "outputs": [],
   "source": [
    "def dft(x: np.ndarray[np.complex128]) -> np.ndarray[np.complex128]:\n",
    "    \"\"\"\n",
    "    Вычисляет дискретное преобразование Фурье (ДПФ) входного сигнала.\n",
    "\n",
    "    Функция реализует ДПФ, используя матричное умножение для эффективного вычисления.\n",
    "\n",
    "    Параметры\n",
    "    ----------\n",
    "    x : np.ndarray[np.complex128]\n",
    "        Входной сигнал как массив комплексных чисел\n",
    "\n",
    "    Возвращает\n",
    "    ----------\n",
    "    np.ndarray[np.complex128]\n",
    "        Результат ДПФ - массив комплексных чисел той же длины, что и входной сигнал\n",
    "\n",
    "    Пример\n",
    "    -------\n",
    "    >>> x = np.array([1+0j, 2+0j, 3+0j, 4+0j])\n",
    "    >>> dft(x)\n",
    "    array([ 10.+0.j,  -2.+2.j,  -2.+0.j,  -2.-2.j])\n",
    "    \"\"\"\n",
    "    N = len(x)\n",
    "    n = np.arange(N)[:, None]  # Create a column vector of n\n",
    "    k = np.arange(N)[None, :]  # Create a row vector of k\n",
    "    W = np.exp(-2j * np.pi * k * n / N)  # Calculate the DFT matrix using broadcasting\n",
    "    return x @ W"
   ]
  },
  {
   "cell_type": "code",
   "execution_count": 8,
   "metadata": {},
   "outputs": [
    {
     "data": {
      "text/plain": [
       "array([ 2.+0.j, -2.-2.j,  0.-2.j,  4.+4.j])"
      ]
     },
     "execution_count": 8,
     "metadata": {},
     "output_type": "execute_result"
    }
   ],
   "source": [
    "x = np.array([1, 2 - 1j, -1j, -1 + 2j])\n",
    "X = dft(x)\n",
    "X.round(2)"
   ]
  },
  {
   "cell_type": "markdown",
   "metadata": {},
   "source": [
    "## Быстрое преобразование Фурье"
   ]
  },
  {
   "cell_type": "markdown",
   "metadata": {},
   "source": [
    "**_Definition_** Быстрое преобразование Фурье (БПФ) - это алгоритм расчета дискретного преобразования Фурье (ДПФ) или обратного ДПФ, который позволяет снизить сложность с $O(n^2)$ (наивная имплементация ДПФ) до $O(nlogn)$"
   ]
  },
  {
   "cell_type": "markdown",
   "metadata": {},
   "source": [
    "Существует множество вариаций быстрого преобразования Фурье, однако наиболее распространенная – это алгоритм Cooley–Tukey."
   ]
  },
  {
   "cell_type": "markdown",
   "metadata": {},
   "source": [
    "$$\n",
    "X_k = \\sum_{n=0}^{N-1} x_n \\cdot e^{-i2\\pi \\frac{k}{N}n} \\quad \n",
    "$$"
   ]
  },
  {
   "cell_type": "markdown",
   "metadata": {},
   "source": [
    "Алгоритм Cooley-Tukey\n",
    "\n",
    "1) Рассчитываем ДФТ четных элементов последовательности\n",
    "$(x_{2m} = x_0, x_2, ... , x_{N-2})$ и для нечетных $(x_{2m+1} = x_1, x_3, ..., x_{N-1})$, в конце соединим результаты, чтобы получить все элементы в одной последовательности. _(разделяй и властвуй)_\n",
    "\n",
    "2) Эта идея теперь может быть применена рекурсивно, чтобы снизить сложность до $O(NlogN)$. Замечание: такая упрощенная форма подразумевает, что N - это степень двойки. Это не является проблемой, так как можно изменить sample rate или просто добавить zero-padding."
   ]
  },
  {
   "cell_type": "markdown",
   "metadata": {},
   "source": [
    "$$\n",
    "X_k = \\sum_{m=0}^{N/2-1} x_{2m} \\cdot e^{-i2\\pi \\frac{k}{N}2m} \\quad + \\sum_{m=0}^{N/2-1} x_{2m+1} \\cdot e^{-i2\\pi \\frac{k}{N}(2m + 1)} \\quad\n",
    "$$"
   ]
  },
  {
   "cell_type": "markdown",
   "metadata": {},
   "source": [
    "$$\n",
    "X_k = \\underbrace{\\sum_{m=0}^{N/2-1} x_{2m}e^{-\\frac{2\\pi i}{N/2}mk}}_{\\text{DFT of even-indexed part of } x_n} + e^{-\\frac{2\\pi i}{N}k}\\underbrace{\\sum_{m=0}^{N/2-1} x_{2m+1}e^{-\\frac{2\\pi i}{N/2}mk}}_{\\text{DFT of odd-indexed part of } x_n} = E_k + e^{-\\frac{2\\pi i}{N}k}O_k\n",
    "$$"
   ]
  },
  {
   "cell_type": "markdown",
   "metadata": {},
   "source": [
    "Это можно показать (из свойства периодчности комплексной экспоненты), что можно получить ДПФ для всего спектра значений, а не для $(N/2 - 1)$"
   ]
  },
  {
   "cell_type": "markdown",
   "metadata": {},
   "source": [
    "$$\n",
    "X_k = E_k + e^{-\\frac{2\\pi i}{N}k}O_k\n",
    "$$\n",
    "$$\n",
    "X_{k+\\frac{N}{2}} = E_k - e^{-\\frac{2\\pi i}{N}k}O_k\n",
    "$$"
   ]
  },
  {
   "cell_type": "code",
   "execution_count": 9,
   "metadata": {},
   "outputs": [],
   "source": [
    "def fft(x: np.ndarray[np.complex128]) -> np.ndarray[np.complex128]:\n",
    "    \"\"\"\n",
    "    Быстрое преобразование Фурье (БПФ) с использованием алгоритма Cooley-Tukey.\n",
    "    \n",
    "    Параметры:\n",
    "    ----------\n",
    "    x : np.ndarray[np.complex128]\n",
    "        Входной массив комплексных чисел\n",
    "        \n",
    "    Возвращает:\n",
    "    -----------\n",
    "    np.ndarray[np.complex128]\n",
    "        Результат БПФ\n",
    "    \"\"\"\n",
    "    original_N = len(x)\n",
    "    N = len(x)\n",
    "    \n",
    "    # Дополняем входной массив нулями до ближайшей степени двойки\n",
    "    if N & (N-1) != 0:\n",
    "        next_power_2 = 1 << (N - 1).bit_length()\n",
    "        x = np.pad(x, (0, next_power_2 - N), mode='constant')\n",
    "        N = next_power_2\n",
    "    \n",
    "    # Базовый случай рекурсии\n",
    "    if N == 1:\n",
    "        return x\n",
    "    \n",
    "    # Разделяем на четные и нечетные индексы\n",
    "    even = fft(x[::2])\n",
    "    odd = fft(x[1::2])\n",
    "    \n",
    "    # Вычисляем комплексные экспоненты\n",
    "    factor = np.exp(-2j * np.pi * np.arange(N) / N)\n",
    "    \n",
    "    # Объединяем результаты по формуле X_k = E_k + e^(-2πik/N)O_k\n",
    "    result = np.concatenate([\n",
    "        even + factor[:N//2] * odd,      # Для k от 0 до N/2-1\n",
    "        even + factor[N//2:] * odd       # Для k от N/2 до N-1\n",
    "    ])\n",
    "    \n",
    "    # Возвращаем только нужное количество элементов\n",
    "    return result[:original_N]"
   ]
  },
  {
   "cell_type": "code",
   "execution_count": 10,
   "metadata": {},
   "outputs": [
    {
     "data": {
      "text/plain": [
       "array([ 2.+0.j, -2.-2.j,  0.-2.j,  4.+4.j])"
      ]
     },
     "execution_count": 10,
     "metadata": {},
     "output_type": "execute_result"
    }
   ],
   "source": [
    "fft(x).round(2)"
   ]
  },
  {
   "cell_type": "markdown",
   "metadata": {},
   "source": [
    "## Свёртка"
   ]
  },
  {
   "cell_type": "markdown",
   "metadata": {},
   "source": [
    "**_Definition_**  Пусть $x(t)$ и $y(t)$ две данные функции. Их свёртка определяется как\n",
    "\n",
    "$$(x * y)(t) = \\int_{-\\infty}^{\\infty} x(\\tau) y(t -  \\tau) d \\tau.$$\n",
    "\n",
    "это математическая операция, которая объединяет две функции, создавая новую функцию, описывающую, как одна функция \"накладывается\" на другую.\n",
    "\n"
   ]
  },
  {
   "cell_type": "markdown",
   "metadata": {},
   "source": [
    "__Что происходит в формуле__\n",
    "\n",
    "$x(τ)$: первая функция рассматривается в момент времени $τ$.\n",
    "\n",
    "$y(t - τ)$: вторая функция сдвигается по времени на $t$ и отражается относительно оси времени.\n",
    "dτ: интеграл складывает значения произведений $x(τ)$ и $y(t - τ)$ по всем значениям $τ$ от $-∞$ до $+∞$.\n",
    "\n",
    "__Интуиция:__\n",
    "\n",
    "Представьте, что одна из функций (например, $y(t)$) является \"фильтром\", который мы накладываем на другую функцию $x(t)$.\n",
    "На каждом шаге t, мы вычисляем, насколько $y(t)$ соответствует участку $x(t)$, перемножая их значения и суммируя результат.\n",
    "\n",
    "__Пример:__\n",
    "\n",
    "Если $x(t)$ описывает сигнал, а $y(t)$ отклик системы, то свертка $(x * y)(t)$ дает выходной сигнал системы.\n",
    "\n"
   ]
  },
  {
   "cell_type": "markdown",
   "metadata": {},
   "source": [
    "**_Theorem_** Теорема о свёртке. Широко известный факт: *свёртка* во временном пространстве (time domain) эквивалентна *произведению* в частотном пространстве (frequency domain). \n",
    "\n",
    "- Преобразование из одного протсранства в другое осуществляется с помощью преобразования Фурье:\n",
    "\n",
    "$$\n",
    "\\widehat{x}(w) = (\\mathcal{F}(x))(w) = \\int_{-\\infty}^{\\infty} e^{i w t} x(t) dt.\n",
    "$$\n",
    "\n",
    "- Тогда\n",
    "\n",
    "$$\n",
    "\\mathcal{F}(x * y) = \\mathcal{F}(x) \\mathcal{F}(y).\n",
    "$$\n",
    "\n",
    "- Таким образом, алгоритм вычисленеия свёртки можно записать следующим образом:\n",
    "\n",
    "\n",
    "1. Вычислить преобразование Фурье от $x(t)$ и $y(t)$. \n",
    "2. Вычислить их произведение\n",
    "3. Применить к результапту обратное преобразование Фурье"
   ]
  },
  {
   "cell_type": "markdown",
   "metadata": {},
   "source": [
    "Вернемся к свертке\n",
    "$$\n",
    "(x * y)(t) = \\int_{-\\infty}^{\\infty} x(\\tau) y(t -  \\tau) d \\tau.\n",
    "$$\n",
    "\n",
    "**_Definition_** Операция дискретной свертки определяется как\n",
    "$$\n",
    "z_i = \\sum_{j=0}^{n-1} x_j y_{i - j}\n",
    "$$"
   ]
  },
  {
   "cell_type": "markdown",
   "metadata": {},
   "source": [
    "<div style=\"text-align: center;\">\n",
    "  <img src=\"imgs/conv1d.gif\" width=\"50%\" height=\"50%\" alt=\"Image description\">\n",
    "</div>"
   ]
  },
  {
   "cell_type": "markdown",
   "metadata": {},
   "source": [
    "## Тёплицевы матрицы: определение\n",
    "\n",
    "**_Definition_** Матрица называется Тёплицевой, если её элементы определены как\n",
    "\n",
    "$$a_{ij} = t_{i - j}.$$\n",
    "\n",
    "(матрица, в которой на всех диагоналях, параллельных главной, стоят равные элементы)\n",
    "\n",
    "- Тёплицева матрица полностью определяется первой строкой и первым столбцом (то есть $2n-1$ параметр).\n",
    "\n",
    "- Это плотная матрица, однако она имеет структуру, то есть определяется $\\mathcal{O}(n)$ параметрами (сравните с разреженными матрицами)\n",
    "\n",
    "- Основная операция для вычисления дискретной свёртки – это произведение Тёплицевой матрицы на вектор.\n",
    "\n",
    "- Можно ли его вычислить быстрее чем за $\\mathcal{O}(n^2)$?"
   ]
  },
  {
   "cell_type": "markdown",
   "metadata": {},
   "source": [
    "$$M = \\begin{pmatrix}\n",
    "4 & 5 & 6 & 7 & 8 \\\\\n",
    "3 & 4 & 5 & 6 & 7 \\\\\n",
    "2 & 3 & 4 & 5 & 6 \\\\\n",
    "1 & 2 & 3 & 4 & 5\n",
    "\\end{pmatrix}$$"
   ]
  },
  {
   "cell_type": "markdown",
   "metadata": {},
   "source": [
    "_Дискретная свёртка и Тёплицевы матрицы_\n",
    "\n",
    "Дискретную свёртку можнопредставить как умножение матрицы на вектор:\n",
    "\n",
    "$$z_i = \\sum_{j=0}^{n-1} x_j y_{i - j}, \\Leftrightarrow z = Ax$$\n",
    "\n",
    "где элементы матрицы $A$ равны $a_{ij} = y_{i-j}$, то есть они зависят только от разности между индексами строки и столбца.\n"
   ]
  }
 ],
 "metadata": {
  "kernelspec": {
   "display_name": "Python 3",
   "language": "python",
   "name": "python3"
  },
  "language_info": {
   "codemirror_mode": {
    "name": "ipython",
    "version": 3
   },
   "file_extension": ".py",
   "mimetype": "text/x-python",
   "name": "python",
   "nbconvert_exporter": "python",
   "pygments_lexer": "ipython3",
   "version": "3.11.2"
  }
 },
 "nbformat": 4,
 "nbformat_minor": 2
}